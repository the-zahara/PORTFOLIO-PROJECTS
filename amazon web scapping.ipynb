{
 "cells": [
  {
   "cell_type": "code",
   "execution_count": 89,
   "id": "68dd52c0-fc8f-400e-84ec-91360956be6c",
   "metadata": {},
   "outputs": [],
   "source": [
    "#import libraries\n",
    "from bs4 import BeautifulSoup\n",
    "import requests\n",
    "import time\n",
    "import datetime\n",
    "import smtplib\n",
    "import re"
   ]
  },
  {
   "cell_type": "code",
   "execution_count": 128,
   "id": "bd00b5d9-9635-4816-82a9-e7eab749376c",
   "metadata": {},
   "outputs": [
    {
     "name": "stdout",
     "output_type": "stream",
     "text": [
      "\n",
      "                    Got Data Funny Business Data Analyst T-Shirt\n",
      "                   \n",
      "\n",
      "\n",
      "\n",
      "\n",
      "                    $15.99 with 6 percent savings\n",
      "                   \n",
      "\n",
      "                    -6%\n",
      "                   \n",
      "\n",
      "\n",
      "\n",
      "\n",
      "\n",
      "                      $\n",
      "                     \n",
      "\n",
      "                      15\n",
      "                      \n",
      "                       .\n",
      "                      \n",
      "\n",
      "\n",
      "                      99\n",
      "                     \n",
      "\n",
      "\n",
      "\n",
      "\n",
      "\n",
      "\n",
      "\n",
      "                      Typical price: $16.99\n",
      "                     \n",
      "\n",
      "                      Typical price:\n",
      "                      \n",
      "\n",
      "                        $16.99\n",
      "                       \n",
      "\n",
      "                        $16.99\n",
      "                       \n",
      "\n",
      "\n",
      "\n",
      "\n",
      "\n",
      "\n",
      "\n",
      "\n",
      "\n",
      "\n",
      "\n",
      "\n",
      "                        The Typical Price is determined using the 90-day median price paid by customers for the product in the Amazon store. We exclude prices paid by customers for the product during limited time promotions and prices paid in the Amazon Haul store\n",
      "                        \n",
      "\n",
      "                          Learn more\n",
      "                         \n",
      "\n",
      "\n",
      "\n",
      "\n",
      "\n",
      "\n",
      "\n",
      "\n",
      "\n"
     ]
    }
   ],
   "source": [
    "#connnect to the website\n",
    "URL = 'https://www.amazon.com/Funny-Data-Systems-Business-Analyst/dp/B07FNW9FGJ/ref=sr_1_8?crid=DPSA4YXBPRX8&dib=eyJ2IjoiMSJ9.lAxIshEMV-JS6PwXlWw0OKgNW-UynCUG3f1AxC5cgTs74Rj6b-FLc3bAhuUxynUTAnyFYnAzhxUf2Zb2Oy_zW0qxhgZOIO4mDVpj51TDqKRmTgyqXNI97W8TuPnRfkde-7y9QZKoBuiwz_TvpPWkatQHzSkVxq9FHzGXjePyJndv5dXQ_-dSCQTA3ILzSPEl7ROgdqUFruwC8qMKMKz8rEr1RWT2oRzR_rbUol_CGT6s0wyulLX225yD-In0CHlKMAV0szpyEMkNfUVEw3J-zbKUT4GJDdsGah7V1NIEbOoOtxSPiYaytKH1f3pkXes3A0aTXEIMtwoXbC1Tjhh4zO66r2AvjtfKll_XrIwCpqYUkqRwMAAQQfe10dh4S_n5BUV7R6_L7XuksOupIF5RbFKmykmfuPleK9_k7I1otYXBlanDGZPTFdTCjadd0EJx.kbkp56uFeuzyTcljCauzVV5D69OmDorRBygPqrBTE-M&dib_tag=se&keywords=data%2Banalyst%2Btshirt&qid=1734975707&sprefix=data%2Banalyst%2Caps%2C937&sr=8-8&customId=B0752XJYNL&customizationToken=MC_Assembly_1%23B0752XJYNL&th=1'\n",
    "\n",
    "headers = {\n",
    "\"User-Agent\": \"Mozilla/5.0 (Windows NT 10.0; Win64; x64) AppleWebKit/537.36 (KHTML, like Gecko)Chrome/131.0.0.0 Safari/537.36\"\n",
    "}\n",
    "page = requests.get(URL, headers=headers)\n",
    "\n",
    "soup1 = BeautifulSoup(page.content, \"html.parser\")\n",
    "\n",
    "soup2 = BeautifulSoup(soup1.prettify(), \"html.parser\")\n",
    "\n",
    "title = soup2.find(id=\"productTitle\").get_text()\n",
    "\n",
    "price = soup2.find(id=\"corePriceDisplay_desktop_feature_div\").get_text()\n",
    "\n",
    "print(title)\n",
    "print(price)\n"
   ]
  },
  {
   "cell_type": "code",
   "execution_count": 129,
   "id": "36e132ea-dd22-4aa2-b918-99d790850b37",
   "metadata": {},
   "outputs": [
    {
     "name": "stdout",
     "output_type": "stream",
     "text": [
      "15.99\n",
      "Got Data Funny Business Data Analyst T-Shirt\n"
     ]
    }
   ],
   "source": [
    "price_match = re.search(r'\\$\\s*(\\d+)\\s*\\.\\s*(\\d+)', price)\n",
    "if price_match:\n",
    "    price = f\"{price_match.group(1)}.{price_match.group(2)}\"\n",
    "    print(price)  # Output: 15.99\n",
    "else:\n",
    "    print(\"Price not found\")\n",
    "\n",
    "title = title.strip()\n",
    "print(title)"
   ]
  },
  {
   "cell_type": "code",
   "execution_count": 104,
   "id": "50a97ed1-f028-4b0d-a4c3-faf3c0ca16f3",
   "metadata": {},
   "outputs": [
    {
     "name": "stdout",
     "output_type": "stream",
     "text": [
      "Got Data Funny Business Data Analyst T-Shirt\n",
      "15.99\n"
     ]
    }
   ],
   "source": [
    "title = title.strip()\n",
    "price = price.strip()\n",
    "print(title)\n",
    "print(price)"
   ]
  },
  {
   "cell_type": "code",
   "execution_count": 96,
   "id": "1cd5ac81-0155-4558-9acf-b68d8f920452",
   "metadata": {},
   "outputs": [
    {
     "name": "stdout",
     "output_type": "stream",
     "text": [
      "2024-12-28\n"
     ]
    }
   ],
   "source": [
    "import datetime\n",
    "\n",
    "today = datetime.date.today()\n",
    "\n",
    "print(today)"
   ]
  },
  {
   "cell_type": "code",
   "execution_count": 133,
   "id": "b2c25ec4-05f7-439d-9709-b98163c8b375",
   "metadata": {},
   "outputs": [],
   "source": [
    "import csv\n",
    "\n",
    "header = ['Title','Price','Date']\n",
    "data = [title, price,today]\n",
    "\n",
    "#with open('AmazonWebScraperDataset.csv', 'w', newline='', encoding = 'UTF8') as f:\n",
    "   #writer = csv.writer(f)\n",
    "   #writer.writerow(header)\n",
    "   #writer.writerow(data)"
   ]
  },
  {
   "cell_type": "code",
   "execution_count": 134,
   "id": "204ecec1-e0c1-427d-a3c7-de76fffd2aa1",
   "metadata": {},
   "outputs": [
    {
     "name": "stdout",
     "output_type": "stream",
     "text": [
      "                                          Title  Price        Date\n",
      "0  Got Data Funny Business Data Analyst T-Shirt  15.99  2024-12-28\n"
     ]
    }
   ],
   "source": [
    "import pandas as pd \n",
    "\n",
    "df =pd.read_csv(r'C:\\Users\\timaz\\AmazonWebScraperDataset.csv')\n",
    "\n",
    "print(df)\n"
   ]
  },
  {
   "cell_type": "code",
   "execution_count": 135,
   "id": "8a4d5c72-c8d8-4fcb-bcb9-646f954c6b06",
   "metadata": {},
   "outputs": [],
   "source": [
    "\n",
    "with open('AmazonWebScraperDataset.csv', 'a+', newline='', encoding = 'UTF8') as f:\n",
    "   writer = csv.writer(f)\n",
    "   writer.writerow(header)\n",
    "   writer.writerow(data)"
   ]
  },
  {
   "cell_type": "code",
   "execution_count": 136,
   "id": "52e59f15-327e-451d-b7e3-c928a116e1af",
   "metadata": {},
   "outputs": [],
   "source": [
    "def check_price():\n",
    "    URL = 'https://www.amazon.com/Funny-Data-Systems-Business-Analyst/dp/B07FNW9FGJ/ref=sr_1_8?crid=DPSA4YXBPRX8&dib=eyJ2IjoiMSJ9.lAxIshEMV-JS6PwXlWw0OKgNW-UynCUG3f1AxC5cgTs74Rj6b-FLc3bAhuUxynUTAnyFYnAzhxUf2Zb2Oy_zW0qxhgZOIO4mDVpj51TDqKRmTgyqXNI97W8TuPnRfkde-7y9QZKoBuiwz_TvpPWkatQHzSkVxq9FHzGXjePyJndv5dXQ_-dSCQTA3ILzSPEl7ROgdqUFruwC8qMKMKz8rEr1RWT2oRzR_rbUol_CGT6s0wyulLX225yD-In0CHlKMAV0szpyEMkNfUVEw3J-zbKUT4GJDdsGah7V1NIEbOoOtxSPiYaytKH1f3pkXes3A0aTXEIMtwoXbC1Tjhh4zO66r2AvjtfKll_XrIwCpqYUkqRwMAAQQfe10dh4S_n5BUV7R6_L7XuksOupIF5RbFKmykmfuPleK9_k7I1otYXBlanDGZPTFdTCjadd0EJx.kbkp56uFeuzyTcljCauzVV5D69OmDorRBygPqrBTE-M&dib_tag=se&keywords=data%2Banalyst%2Btshirt&qid=1734975707&sprefix=data%2Banalyst%2Caps%2C937&sr=8-8&customId=B0752XJYNL&customizationToken=MC_Assembly_1%23B0752XJYNL&th=1'\n",
    "\n",
    "    headers = {\n",
    "    \"User-Agent\": \"Mozilla/5.0 (Windows NT 10.0; Win64; x64) AppleWebKit/537.36 (KHTML, like Gecko)Chrome/131.0.0.0 Safari/537.36\"\n",
    "     }\n",
    "    page = requests.get(URL, headers=headers)\n",
    "\n",
    "    soup1 = BeautifulSoup(page.content, \"html.parser\")\n",
    "\n",
    "    soup2 = BeautifulSoup(soup1.prettify(), \"html.parser\")\n",
    "\n",
    "    title = soup2.find(id=\"productTitle\").get_text()\n",
    "\n",
    "    price = soup2.find(id=\"corePriceDisplay_desktop_feature_div\").get_text()\n",
    "\n",
    "    title = title.strip()\n",
    "    price = price.strip()\n",
    "\n",
    "    import datetime\n",
    "\n",
    "    today = datetime.date.today()\n",
    "\n",
    "    import csv\n",
    "\n",
    "    header = ['Title','Price' 'Date']\n",
    "    data = [title, price,today]\n",
    "\n",
    "    with open('AmazonWebScraperDataset.csv', 'a+', newline='', encoding = 'UTF8') as f:\n",
    "       writer = csv.writer(f)\n",
    "       writer.writerow(data)\n"
   ]
  },
  {
   "cell_type": "code",
   "execution_count": null,
   "id": "ac4ebb7a-c7f0-4082-ae16-5a33bf72df2c",
   "metadata": {},
   "outputs": [],
   "source": [
    "while(True):\n",
    "    check_price()\n",
    "    time.sleep(86400)"
   ]
  },
  {
   "cell_type": "code",
   "execution_count": 137,
   "id": "2f12b913-958b-4c2d-bb83-e6a8bc0daf9b",
   "metadata": {},
   "outputs": [
    {
     "name": "stdout",
     "output_type": "stream",
     "text": [
      "                                          Title  Price        Date\n",
      "0  Got Data Funny Business Data Analyst T-Shirt  15.99  2024-12-28\n",
      "1                                         Title  Price        Date\n",
      "2  Got Data Funny Business Data Analyst T-Shirt  15.99  2024-12-28\n"
     ]
    }
   ],
   "source": [
    "import pandas as pd \n",
    "\n",
    "df =pd.read_csv(r'C:\\Users\\timaz\\AmazonWebScraperDataset.csv')\n",
    "\n",
    "print(df)"
   ]
  },
  {
   "cell_type": "code",
   "execution_count": null,
   "id": "58c8854f-99ce-40e0-9060-7b57c1111a9e",
   "metadata": {},
   "outputs": [],
   "source": [
    "#if you want to get a notification email\n",
    "#def send mail():\n",
    "    #server = snplib.SMTPS_SSL('smtp.gmail.com',465)\n",
    "   # server.ehlo()\n",
    "    #server.starttis()\n",
    "   # server.ehlo()\n",
    "   # server.login('zerharer@gmail.com', ' ')\n",
    "\n",
    "#subject = \"The shirt you want is below $15! Now is your chance to buy!\"\n",
    "#body = \" Fatima,This is the moment we have been waiting for, now is your chance\n",
    "#msg = f\"subject: {subject}\\n\\n{body}\"\n",
    "#server.sendmail('zerharer@gmail.com,msg)"
   ]
  }
 ],
 "metadata": {
  "kernelspec": {
   "display_name": "Python 3 (ipykernel)",
   "language": "python",
   "name": "python3"
  },
  "language_info": {
   "codemirror_mode": {
    "name": "ipython",
    "version": 3
   },
   "file_extension": ".py",
   "mimetype": "text/x-python",
   "name": "python",
   "nbconvert_exporter": "python",
   "pygments_lexer": "ipython3",
   "version": "3.12.7"
  }
 },
 "nbformat": 4,
 "nbformat_minor": 5
}
